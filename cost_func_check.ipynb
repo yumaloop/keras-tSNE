{
 "cells": [
  {
   "cell_type": "code",
   "execution_count": null,
   "metadata": {},
   "outputs": [],
   "source": [
    "\n",
    "import os\n",
    "import shutil\n",
    "import numpy as np\n",
    "import tensorflow as tf\n",
    "import keras\n",
    "import keras.backend as K\n",
    "from datetime import datetime\n",
    "from datagen import TSNEBatchGenerator\n",
    "\n",
    "def cost_func(y_true, y_pred):\n",
    "    x_batch = y_true\n",
    "    y_batch = y_pred\n",
    "\n",
    "    batch_size = 1000\n",
    "\n",
    "    x_batch = K.reshape(x_batch, (batch_size, -1))\n",
    "    y_batch = K.reshape(y_batch, (batch_size, -1))\n",
    "\n",
    "    sigma = np.sqrt(784) / np.sqrt(2)\n",
    "\n",
    "    rx = K.tf.reduce_sum( x_batch * x_batch, 1)\n",
    "    rx = K.reshape(rx, (-1, 1))\n",
    "    Gx = rx - 2 * K.tf.matmul(x_batch, K.tf.transpose(x_batch)) + K.tf.transpose(rx)\n",
    "    x_numerator = K.exp( - Gx / (2 * np.square(sigma)))\n",
    "    x_denominator = K.tf.reduce_sum(x_numerator)\n",
    "    \n",
    "    ry = K.tf.reduce_sum( y_batch * y_batch, 1)\n",
    "    ry = K.reshape(ry, (-1, 1))\n",
    "    Gy = ry - 2 * K.tf.matmul(y_batch, K.tf.transpose(y_batch)) + K.tf.transpose(ry)\n",
    "    y_numerator = 1 / (1 + Gy)\n",
    "    y_denominator = K.tf.reduce_sum(y_numerator)\n",
    "\n",
    "    P = x_numerator / x_denominator\n",
    "    Q = y_numerator / y_denominator\n",
    "\n",
    "    KL = K.tf.reduce_sum(P * K.log(P / Q))\n",
    "    return KL"
   ]
  }
 ],
 "metadata": {
  "kernelspec": {
   "display_name": "Python 3",
   "language": "python",
   "name": "python3"
  },
  "language_info": {
   "codemirror_mode": {
    "name": "ipython",
    "version": 3
   },
   "file_extension": ".py",
   "mimetype": "text/x-python",
   "name": "python",
   "nbconvert_exporter": "python",
   "pygments_lexer": "ipython3",
   "version": "3.7.4"
  }
 },
 "nbformat": 4,
 "nbformat_minor": 2
}
