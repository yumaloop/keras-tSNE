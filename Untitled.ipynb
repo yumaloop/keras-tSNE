{
 "cells": [
  {
   "cell_type": "code",
   "execution_count": 1,
   "metadata": {},
   "outputs": [
    {
     "name": "stderr",
     "output_type": "stream",
     "text": [
      "Using TensorFlow backend.\n"
     ]
    }
   ],
   "source": [
    "import os\n",
    "import itertools\n",
    "import keras\n",
    "import keras.backend as K\n",
    "import tensorflow as tf\n",
    "import numpy as np"
   ]
  },
  {
   "cell_type": "code",
   "execution_count": 2,
   "metadata": {},
   "outputs": [],
   "source": [
    "def make_two_combinations(array):\n",
    "    # Take the size of the array\n",
    "    size = tf.shape(array)[0]\n",
    "    # Make 2D grid of indices\n",
    "    r = tf.range(size)\n",
    "    ii, jj = tf.meshgrid(r, r, indexing='ij')\n",
    "    # Take pairs of indices where the first is less or equal than the second\n",
    "    m = ii <= jj\n",
    "    idx = tf.stack([tf.boolean_mask(ii, m), tf.boolean_mask(jj, m)], axis=1)\n",
    "    # Gather result\n",
    "    return tf.gather(array, idx)"
   ]
  },
  {
   "cell_type": "code",
   "execution_count": 3,
   "metadata": {},
   "outputs": [
    {
     "name": "stdout",
     "output_type": "stream",
     "text": [
      "WARNING:tensorflow:From /usr/local/lib/python3.7/site-packages/tensorflow/python/framework/op_def_library.py:263: colocate_with (from tensorflow.python.framework.ops) is deprecated and will be removed in a future version.\n",
      "Instructions for updating:\n",
      "Colocations handled automatically by placer.\n"
     ]
    },
    {
     "data": {
      "text/plain": [
       "<tf.Variable 'Variable:0' shape=(3,) dtype=float32_ref>"
      ]
     },
     "execution_count": 3,
     "metadata": {},
     "output_type": "execute_result"
    }
   ],
   "source": [
    "x = K.variable([1,2,3])\n",
    "x"
   ]
  },
  {
   "cell_type": "code",
   "execution_count": 4,
   "metadata": {},
   "outputs": [
    {
     "data": {
      "text/plain": [
       "<tf.Tensor 'GatherV2:0' shape=(?, 2) dtype=float32>"
      ]
     },
     "execution_count": 4,
     "metadata": {},
     "output_type": "execute_result"
    }
   ],
   "source": [
    "make_two_combinations(x)"
   ]
  },
  {
   "cell_type": "code",
   "execution_count": null,
   "metadata": {},
   "outputs": [],
   "source": []
  },
  {
   "cell_type": "code",
   "execution_count": null,
   "metadata": {},
   "outputs": [],
   "source": []
  },
  {
   "cell_type": "code",
   "execution_count": null,
   "metadata": {},
   "outputs": [],
   "source": []
  },
  {
   "cell_type": "code",
   "execution_count": 28,
   "metadata": {},
   "outputs": [
    {
     "data": {
      "text/plain": [
       "<tf.Tensor 'Reshape:0' shape=(8, 784) dtype=float32>"
      ]
     },
     "execution_count": 28,
     "metadata": {},
     "output_type": "execute_result"
    }
   ],
   "source": [
    "x_batch"
   ]
  },
  {
   "cell_type": "code",
   "execution_count": null,
   "metadata": {},
   "outputs": [],
   "source": []
  },
  {
   "cell_type": "code",
   "execution_count": null,
   "metadata": {},
   "outputs": [],
   "source": []
  },
  {
   "cell_type": "code",
   "execution_count": 56,
   "metadata": {},
   "outputs": [],
   "source": [
    "x_batch = K.variable(np.array([[1,2,3], [4,5,6], [7,8,9]]))"
   ]
  },
  {
   "cell_type": "code",
   "execution_count": 57,
   "metadata": {},
   "outputs": [
    {
     "data": {
      "text/plain": [
       "array([[1., 2., 3.],\n",
       "       [4., 5., 6.],\n",
       "       [7., 8., 9.]], dtype=float32)"
      ]
     },
     "execution_count": 57,
     "metadata": {},
     "output_type": "execute_result"
    }
   ],
   "source": [
    "K.eval(x_batch)"
   ]
  },
  {
   "cell_type": "code",
   "execution_count": 59,
   "metadata": {},
   "outputs": [],
   "source": [
    "r = K.tf.reduce_sum( x_batch * x_batch, 1)\n",
    "r = K.reshape(r, (-1, 1))\n",
    "D = r - 2*K.tf.matmul(x_batch, K.tf.transpose(x_batch)) + K.tf.transpose(r)\n"
   ]
  },
  {
   "cell_type": "code",
   "execution_count": 62,
   "metadata": {},
   "outputs": [
    {
     "data": {
      "text/plain": [
       "array([[  0.,  27., 108.],\n",
       "       [ 27.,   0.,  27.],\n",
       "       [108.,  27.,   0.]], dtype=float32)"
      ]
     },
     "execution_count": 62,
     "metadata": {},
     "output_type": "execute_result"
    }
   ],
   "source": [
    "K.eval(D)"
   ]
  },
  {
   "cell_type": "code",
   "execution_count": 66,
   "metadata": {},
   "outputs": [
    {
     "data": {
      "text/plain": [
       "array([[1.0000000e+00, 1.3709591e-06, 3.5326284e-24],\n",
       "       [1.3709591e-06, 1.0000000e+00, 1.3709591e-06],\n",
       "       [3.5326284e-24, 1.3709591e-06, 1.0000000e+00]], dtype=float32)"
      ]
     },
     "execution_count": 66,
     "metadata": {},
     "output_type": "execute_result"
    }
   ],
   "source": [
    "K.eval(K.exp(- D / 2))"
   ]
  },
  {
   "cell_type": "code",
   "execution_count": 63,
   "metadata": {},
   "outputs": [],
   "source": [
    "rsum = K.tf.reduce_sum(D)"
   ]
  },
  {
   "cell_type": "code",
   "execution_count": 64,
   "metadata": {},
   "outputs": [
    {
     "data": {
      "text/plain": [
       "324.0"
      ]
     },
     "execution_count": 64,
     "metadata": {},
     "output_type": "execute_result"
    }
   ],
   "source": [
    "K.eval(rsum)"
   ]
  },
  {
   "cell_type": "code",
   "execution_count": null,
   "metadata": {},
   "outputs": [],
   "source": []
  },
  {
   "cell_type": "code",
   "execution_count": null,
   "metadata": {},
   "outputs": [],
   "source": []
  },
  {
   "cell_type": "code",
   "execution_count": null,
   "metadata": {},
   "outputs": [],
   "source": []
  },
  {
   "cell_type": "code",
   "execution_count": 34,
   "metadata": {},
   "outputs": [],
   "source": [
    "def squared_dist(A): \n",
    "    expanded_a = tf.expand_dims(A, 1)\n",
    "    expanded_b = tf.expand_dims(A, 0)\n",
    "    distances = tf.reduce_sum(tf.squared_difference(expanded_a, expanded_b), 2)\n",
    "    return distances"
   ]
  },
  {
   "cell_type": "code",
   "execution_count": 35,
   "metadata": {},
   "outputs": [],
   "source": [
    "D_ = squared_dist(x_batch)"
   ]
  },
  {
   "cell_type": "code",
   "execution_count": 36,
   "metadata": {},
   "outputs": [
    {
     "data": {
      "text/plain": [
       "(8, 8)"
      ]
     },
     "execution_count": 36,
     "metadata": {},
     "output_type": "execute_result"
    }
   ],
   "source": [
    "K.eval(D_).shape"
   ]
  },
  {
   "cell_type": "code",
   "execution_count": 67,
   "metadata": {},
   "outputs": [
    {
     "data": {
      "text/plain": [
       "array([[  0.      ,  78.22539 ,  77.263885,  64.4435  , 111.32243 ,\n",
       "         89.49369 ,  13.682707,  90.99271 ],\n",
       "       [ 78.22539 ,   0.      , 110.947266,  70.64471 , 146.63731 ,\n",
       "         80.547066,  74.768036,  66.57701 ],\n",
       "       [ 77.263885, 110.947266,   0.      , 111.66382 ,  81.452934,\n",
       "        102.11948 ,  77.14285 , 114.026794],\n",
       "       [ 64.4435  ,  70.64471 , 111.66382 ,   0.      , 137.97888 ,\n",
       "         98.415146,  59.430065,  96.401695],\n",
       "       [111.32243 , 146.63731 ,  81.452934, 137.97888 ,   0.      ,\n",
       "        150.88843 , 112.336845, 153.07385 ],\n",
       "       [ 89.49369 ,  80.547066, 102.11948 ,  98.415146, 150.88843 ,\n",
       "          0.      ,  88.6927  , 101.3177  ],\n",
       "       [ 13.682707,  74.768036,  77.14285 ,  59.430065, 112.336845,\n",
       "         88.6927  ,   0.      ,  94.02547 ],\n",
       "       [ 90.99271 ,  66.57701 , 114.026794,  96.401695, 153.07385 ,\n",
       "        101.3177  ,  94.02547 ,   0.      ]], dtype=float32)"
      ]
     },
     "execution_count": 67,
     "metadata": {},
     "output_type": "execute_result"
    }
   ],
   "source": [
    "K.eval(D_)"
   ]
  },
  {
   "cell_type": "code",
   "execution_count": 69,
   "metadata": {},
   "outputs": [
    {
     "data": {
      "text/plain": [
       "array([[1.        , 0.01262222, 0.01277729, 0.01528036, 0.00890294,\n",
       "        0.01105049, 0.06810733, 0.01087043],\n",
       "       [0.01262222, 1.        , 0.00893278, 0.01395776, 0.00677336,\n",
       "        0.01226286, 0.01319818, 0.01479793],\n",
       "       [0.01277729, 0.00893278, 1.        , 0.00887596, 0.01212813,\n",
       "        0.00969749, 0.01279708, 0.00869363],\n",
       "       [0.01528036, 0.01395776, 0.00887596, 1.        , 0.00719534,\n",
       "        0.01005883, 0.01654805, 0.01026676],\n",
       "       [0.00890294, 0.00677336, 0.01212813, 0.00719534, 1.        ,\n",
       "        0.00658378, 0.00882326, 0.00649039],\n",
       "       [0.01105049, 0.01226286, 0.00969749, 0.01005883, 0.00658378,\n",
       "        1.        , 0.01114918, 0.00977348],\n",
       "       [0.06810733, 0.01319818, 0.01279708, 0.01654805, 0.00882326,\n",
       "        0.01114918, 1.        , 0.01052349],\n",
       "       [0.01087043, 0.01479793, 0.00869363, 0.01026676, 0.00649039,\n",
       "        0.00977348, 0.01052349, 1.        ]], dtype=float32)"
      ]
     },
     "execution_count": 69,
     "metadata": {},
     "output_type": "execute_result"
    }
   ],
   "source": [
    "K.eval(1/ (1 + D_))"
   ]
  },
  {
   "cell_type": "code",
   "execution_count": null,
   "metadata": {},
   "outputs": [],
   "source": []
  }
 ],
 "metadata": {
  "kernelspec": {
   "display_name": "Python 3",
   "language": "python",
   "name": "python3"
  },
  "language_info": {
   "codemirror_mode": {
    "name": "ipython",
    "version": 3
   },
   "file_extension": ".py",
   "mimetype": "text/x-python",
   "name": "python",
   "nbconvert_exporter": "python",
   "pygments_lexer": "ipython3",
   "version": "3.7.4"
  }
 },
 "nbformat": 4,
 "nbformat_minor": 2
}
